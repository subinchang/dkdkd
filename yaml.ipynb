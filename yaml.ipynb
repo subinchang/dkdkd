{
 "cells": [
  {
   "cell_type": "markdown",
   "metadata": {
    "id": "v86yHoHDW_7x"
   },
   "source": [
    "This code shows how to use your own csv dataset in a EdgeGATConv model using DGL\n",
    "\n",
    "1. create a folder named GC\n",
    "2. inside you should have 3 files: nodes.csv, edges.csv, graphs.csv\n",
    "3. and this file"
   ]
  },
  {
   "cell_type": "code",
   "execution_count": null,
   "metadata": {
    "id": "JTNvBOSWXSqr"
   },
   "outputs": [],
   "source": [
    "import yaml"
   ]
  },
  {
   "cell_type": "code",
   "execution_count": null,
   "metadata": {
    "id": "QLylkq2WW1qF"
   },
   "outputs": [],
   "source": [
    "data = {\n",
    "    'dataset_name' : 'GC',\n",
    "    'node_data' : [{'file_name':'nodes.csv'}],\n",
    "    'edge_data' : [{'file_name':'edges.csv'}],\n",
    "    'graph_data' : {'file_name':'graphs.csv'}\n",
    "}\n",
    "\n",
    "with open('meta.yaml', 'w') as yaml_file:\n",
    "    yaml.dump(data, yaml_file, default_flow_style=False, allow_unicode=True)"
   ]
  }
 ],
 "metadata": {
  "colab": {
   "provenance": []
  },
  "kernelspec": {
   "display_name": "Python 3 (ipykernel)",
   "language": "python",
   "name": "python3"
  },
  "language_info": {
   "codemirror_mode": {
    "name": "ipython",
    "version": 3
   },
   "file_extension": ".py",
   "mimetype": "text/x-python",
   "name": "python",
   "nbconvert_exporter": "python",
   "pygments_lexer": "ipython3",
   "version": "3.10.9"
  }
 },
 "nbformat": 4,
 "nbformat_minor": 1
}
